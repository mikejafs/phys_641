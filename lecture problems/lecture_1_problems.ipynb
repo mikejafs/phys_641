{
 "cells": [
  {
   "cell_type": "code",
   "id": "initial_id",
   "metadata": {
    "collapsed": true,
    "ExecuteTime": {
     "end_time": "2025-01-09T21:28:23.841656Z",
     "start_time": "2025-01-09T21:28:23.607715Z"
    }
   },
   "source": "import numpy as np",
   "outputs": [],
   "execution_count": 1
  },
  {
   "metadata": {},
   "cell_type": "markdown",
   "source": "## Question 1",
   "id": "49f7e1d6878330ba"
  },
  {
   "metadata": {
    "ExecuteTime": {
     "end_time": "2025-01-09T21:33:05.313948Z",
     "start_time": "2025-01-09T21:33:05.298917Z"
    }
   },
   "cell_type": "code",
   "source": [
    "def l_nu(eps, nu, T):\n",
    "    num = (1.474e-50)*eps*nu**3\n",
    "    denom = np.exp((4.800*10**(-nu/T)) - 1)\n",
    "    return num/denom\n",
    "\n",
    "def l_lambda(eps, lam, T):\n",
    "    num = (1.191e-16)*eps\n",
    "    denom = (lam**5)*(np.exp(0.01438/(lam*T)) - 1)\n",
    "    return num/denom"
   ],
   "id": "a8c7617a99f1a798",
   "outputs": [],
   "execution_count": 4
  },
  {
   "metadata": {
    "ExecuteTime": {
     "end_time": "2025-01-09T21:37:40.090850Z",
     "start_time": "2025-01-09T21:37:40.082450Z"
    }
   },
   "cell_type": "code",
   "source": [
    "from scipy.constants import h, c\n",
    "\n",
    "nu = 8.57e13\n",
    "lam = c/nu\n",
    "# print(c)\n",
    "eps = h*nu\n",
    "T = 1500\n",
    "\n",
    "L_nu = l_nu(eps, nu, T)\n",
    "L_lambda = l_lambda(eps, lam, T)\n",
    "print(L_nu)\n",
    "print(L_lambda)\n"
   ],
   "id": "978adb3c3bda0f9f",
   "outputs": [
    {
     "name": "stdout",
     "output_type": "stream",
     "text": [
      "1.43209319988407e-27\n",
      "8.907279870663804e-10\n"
     ]
    }
   ],
   "execution_count": 10
  }
 ],
 "metadata": {
  "kernelspec": {
   "display_name": "Python 3",
   "language": "python",
   "name": "python3"
  },
  "language_info": {
   "codemirror_mode": {
    "name": "ipython",
    "version": 2
   },
   "file_extension": ".py",
   "mimetype": "text/x-python",
   "name": "python",
   "nbconvert_exporter": "python",
   "pygments_lexer": "ipython2",
   "version": "2.7.6"
  }
 },
 "nbformat": 4,
 "nbformat_minor": 5
}
