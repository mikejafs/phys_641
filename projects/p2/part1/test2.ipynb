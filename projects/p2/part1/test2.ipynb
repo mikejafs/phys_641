{
 "cells": [
  {
   "cell_type": "code",
   "id": "initial_id",
   "metadata": {
    "collapsed": true,
    "jupyter": {
     "is_executing": true
    }
   },
   "source": [
    "import numpy as np\n",
    "import matplotlib.pyplot as plt\n",
    "from rich.pretty import Pretty\n",
    "from sigpyproc.readers import FilReader\n",
    "import os"
   ],
   "outputs": [],
   "execution_count": null
  },
  {
   "metadata": {
    "ExecuteTime": {
     "end_time": "2025-03-09T16:39:35.776764300Z",
     "start_time": "2025-02-25T17:35:03.247840Z"
    }
   },
   "cell_type": "code",
   "source": [
    "\n",
    "bs = FilReader('../data/blank_sky.fil')"
   ],
   "id": "c6760c20425a7381",
   "outputs": [],
   "execution_count": 4
  },
  {
   "metadata": {
    "ExecuteTime": {
     "end_time": "2025-03-09T16:39:35.778818400Z",
     "start_time": "2025-02-25T17:29:43.489613Z"
    }
   },
   "cell_type": "code",
   "source": "",
   "id": "f53bbadfde24e84f",
   "outputs": [],
   "execution_count": null
  }
 ],
 "metadata": {
  "kernelspec": {
   "display_name": "Python 3",
   "language": "python",
   "name": "python3"
  },
  "language_info": {
   "codemirror_mode": {
    "name": "ipython",
    "version": 2
   },
   "file_extension": ".py",
   "mimetype": "text/x-python",
   "name": "python",
   "nbconvert_exporter": "python",
   "pygments_lexer": "ipython2",
   "version": "2.7.6"
  }
 },
 "nbformat": 4,
 "nbformat_minor": 5
}
