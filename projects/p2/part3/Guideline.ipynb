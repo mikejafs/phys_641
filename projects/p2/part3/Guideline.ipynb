{
 "cells": [
  {
   "cell_type": "markdown",
   "metadata": {},
   "source": [
    "# Project Planning and Direction"
   ]
  },
  {
   "cell_type": "markdown",
   "metadata": {},
   "source": [
    "We will want to keep the following in mind when trying to decipher a direction to go in here.\n",
    "\n",
    "The instructions from the pset sheet are the following:"
   ]
  },
  {
   "cell_type": "markdown",
   "metadata": {},
   "source": [
    "1. You need to construct some model for the signal you are trying to detect. For\n",
    "example, if you want to search for signals from extraterrestrial intelligence, do\n",
    "you expect the signal be repeating? Will it be broadband? Will it be of a\n",
    "certain radio luminosity or spectral index? What are the key observables that\n",
    "you can use to claim a detection? Consider how, as an astronomer, you might\n",
    "consider a signal to be alien in nature or, conversely, how you might send a\n",
    "signal for extraterrestrial life to detect.\n",
    "2. In order to claim a signal detection, you need to have some criteria that must\n",
    "be met in your data. You should then apply these criteria to your search.\n",
    "From your model of the signal, you should have some selection cuts that will\n",
    "be applied in the search parameter space. For example, a S/N threshold cut\n",
    "or a DM < 0 cut.\n",
    "3. It is important for any search to characterize the limits of your search, i.e.\n",
    "your detection limit. One method to check your search for potential false positives and understanding your noise statistics to apply your search to regions\n",
    "of data with no signal in it. For example, applying it to blank sky.fil, a separate/independent observation of the blank sky, as a data set where no signals\n",
    "are expected.\n",
    "4. The most difficult part of searching for unknown signals is to set constraints\n",
    "or exclusion limits on your search parameter space. You should have a null\n",
    "hypothesis that you can use to set these constraints. A full statistical treatment\n",
    "of your model is not expected, however you should be able make a statement\n",
    "based on your search. For example, a statement like ”For a signal of type X,\n",
    "we report no detections above a S/N threshold of X which implies no signals\n",
    "originating from < X pc with a flux > X Jy.”."
   ]
  },
  {
   "cell_type": "markdown",
   "metadata": {},
   "source": []
  }
 ],
 "metadata": {
  "language_info": {
   "name": "python"
  }
 },
 "nbformat": 4,
 "nbformat_minor": 2
}
